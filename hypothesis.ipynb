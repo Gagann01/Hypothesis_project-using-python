{
 "cells": [
  {
   "cell_type": "markdown",
   "id": "3348948f-7309-462c-9737-ec3113e66eb4",
   "metadata": {},
   "source": [
    "# Hypothesis Testing: Process We Can Follow\r\n",
    "So, Hypothesis Testing is a fundamental process in data science for making data-driven decisions and inferences about populations based on sample data. Below is the process we can follow for the task of Hypothesis Testing:\r",
    "1. Gather the necessary data required for the hypothesis test.\n",
    "2. Define Null (H0) and Alternative Hypothesis (H1 or Ha).\n",
    "3. Choose the Significance Level (α), which is the probability of rejecting the null hypothesis when it is true.\n",
    "4. Select the appropriate statistical tests. Examples include t-tests for comparing means, chi-square tests for categorical data, and ANOVA for comparing     means across more than two groups.\n",
    "5. Perform the chosen statistical test on your data.\n",
    "6. Determine the p-value and interpret the results of your statistical tests.l tests."
   ]
  },
  {
   "cell_type": "markdown",
   "id": "28adddbb-5d36-4c0c-bd3f-5f5f735b9dbf",
   "metadata": {},
   "source": [
    "# Hypothesis Testing using Python\r\n",
    "Now, let’s get started with the task of Hypothesis Testing by importing the necessary Python libraries and the dataset:\r\n",
    "\r\n"
   ]
  },
  {
   "cell_type": "code",
   "execution_count": 1,
   "id": "1e82d1f3-38dc-481d-8bfe-2d98e21b8f48",
   "metadata": {},
   "outputs": [
    {
     "name": "stdout",
     "output_type": "stream",
     "text": [
      "         Theme  Click Through Rate  Conversion Rate  Bounce Rate  \\\n",
      "0  Light Theme            0.054920         0.282367     0.405085   \n",
      "1  Light Theme            0.113932         0.032973     0.732759   \n",
      "2   Dark Theme            0.323352         0.178763     0.296543   \n",
      "3  Light Theme            0.485836         0.325225     0.245001   \n",
      "4  Light Theme            0.034783         0.196766     0.765100   \n",
      "\n",
      "   Scroll_Depth  Age   Location  Session_Duration Purchases Added_to_Cart  \n",
      "0     72.489458   25    Chennai              1535        No           Yes  \n",
      "1     61.858568   19       Pune               303        No           Yes  \n",
      "2     45.737376   47    Chennai               563       Yes           Yes  \n",
      "3     76.305298   58       Pune               385       Yes            No  \n",
      "4     48.927407   25  New Delhi              1437        No            No  \n"
     ]
    }
   ],
   "source": [
    "import pandas as pd\n",
    "from scipy.stats import ttest_ind\n",
    "\n",
    "df = pd.read_csv(\"website_ab_test.csv\")\n",
    "\n",
    "print(df.head())"
   ]
  },
  {
   "cell_type": "markdown",
   "id": "5f86809e-1d68-4b28-8458-df5b28071fd9",
   "metadata": {},
   "source": [
    "So, the dataset is based on the performance of two themes on a website. Our task is to find which theme performs better using Hypothesis Testing. Let’s go through the summary of the dataset, including the number of records, the presence of missing values, and basic statistics for the numerical columns:"
   ]
  },
  {
   "cell_type": "code",
   "execution_count": 2,
   "id": "4dca8625-1c82-4c4a-bda3-d155a4aa87b2",
   "metadata": {},
   "outputs": [
    {
     "data": {
      "text/plain": [
       "{'Number of Records': 1000,\n",
       " 'Number of Columns': 10,\n",
       " 'Missing Values': Theme                 0\n",
       " Click Through Rate    0\n",
       " Conversion Rate       0\n",
       " Bounce Rate           0\n",
       " Scroll_Depth          0\n",
       " Age                   0\n",
       " Location              0\n",
       " Session_Duration      0\n",
       " Purchases             0\n",
       " Added_to_Cart         0\n",
       " dtype: int64,\n",
       " 'Numerical Columns Summary':        Click Through Rate  Conversion Rate  Bounce Rate  Scroll_Depth  \\\n",
       " count         1000.000000      1000.000000  1000.000000   1000.000000   \n",
       " mean             0.256048         0.253312     0.505758     50.319494   \n",
       " std              0.139265         0.139092     0.172195     16.895269   \n",
       " min              0.010767         0.010881     0.200720     20.011738   \n",
       " 25%              0.140794         0.131564     0.353609     35.655167   \n",
       " 50%              0.253715         0.252823     0.514049     51.130712   \n",
       " 75%              0.370674         0.373040     0.648557     64.666258   \n",
       " max              0.499989         0.498916     0.799658     79.997108   \n",
       " \n",
       "                Age  Session_Duration  \n",
       " count  1000.000000       1000.000000  \n",
       " mean     41.528000        924.999000  \n",
       " std      14.114334        508.231723  \n",
       " min      18.000000         38.000000  \n",
       " 25%      29.000000        466.500000  \n",
       " 50%      42.000000        931.000000  \n",
       " 75%      54.000000       1375.250000  \n",
       " max      65.000000       1797.000000  }"
      ]
     },
     "execution_count": 2,
     "metadata": {},
     "output_type": "execute_result"
    }
   ],
   "source": [
    "# dataset summary\n",
    "summary = {\n",
    "    'Number of Records': df.shape[0],\n",
    "    'Number of Columns': df.shape[1],\n",
    "    'Missing Values': df.isnull().sum(),\n",
    "    'Numerical Columns Summary': df.describe()\n",
    "}\n",
    "\n",
    "summary"
   ]
  },
  {
   "cell_type": "markdown",
   "id": "0e432c54-7754-42f6-a51d-f16cf6cd41d1",
   "metadata": {},
   "source": [
    "<hr>\n",
    "The dataset contains 1,000 records across 10 columns, with no missing values. Here’s a quick summary of the numerical columns:\n",
    "\n",
    "Click Through Rate: Ranges from about 0.01 to 0.50 with a mean of approximately 0.26.\n",
    "Conversion Rate: Also ranges from about 0.01 to 0.50 with a mean close to the Click Through Rate, approximately 0.25.\n",
    "Bounce Rate: Varies between 0.20 and 0.80, with a mean around 0.51.\n",
    "Scroll Depth: Shows a spread from 20.01 to nearly 80, with a mean of 50.32.\n",
    "Age: The age of users ranges from 18 to 65 years, with a mean age of about 41.5 years.\n",
    "Session Duration: This varies widely from 38 seconds to nearly 1800 seconds (30 minutes), with a mean session duration of approximately 925 seconds (about 15 minutes).\n",
    "Now, let’s move on to comparing the performance of both themes based on the provided metrics. We’ll look into the average Click Through Rate, Conversion Rate, Bounce Rate, and other relevant metrics for each theme. Afterwards, we can perform hypothesis testing to identify if there’s a statistically significant difference between the themes:"
   ]
  },
  {
   "cell_type": "code",
   "execution_count": 6,
   "id": "27bf0ca0-873c-4896-9282-faa7acaa17c6",
   "metadata": {},
   "outputs": [
    {
     "name": "stdout",
     "output_type": "stream",
     "text": [
      "             Click Through Rate  Conversion Rate  Bounce Rate  Scroll_Depth  \\\n",
      "Theme                                                                         \n",
      "Light Theme            0.247109         0.255459     0.499035     50.735232   \n",
      "Dark Theme             0.264501         0.251282     0.512115     49.926404   \n",
      "\n",
      "                   Age  Session_Duration  \n",
      "Theme                                     \n",
      "Light Theme  41.734568        930.833333  \n",
      "Dark Theme   41.332685        919.482490  \n"
     ]
    }
   ],
   "source": [
    "# Selecting only numeric columns\n",
    "numeric_cols = df.select_dtypes(include='number').columns\n",
    "\n",
    "# Grouping data by theme and calculating mean values for the numeric metrics\n",
    "theme_performance = df.groupby('Theme')[numeric_cols].mean()\n",
    "\n",
    "# Sorting the data by conversion rate for a better comparison\n",
    "theme_performance_sorted = theme_performance.sort_values(by='Conversion Rate', ascending=False)\n",
    "\n",
    "print(theme_performance_sorted)\n"
   ]
  },
  {
   "cell_type": "markdown",
   "id": "d55a640b-3551-4bfd-9468-44e09a329239",
   "metadata": {},
   "source": [
    "## The comparison between the Light Theme and Dark Theme on average performance metrics reveals the following insights:\n",
    "\n",
    "1. **Click Through Rate (CTR)**: The Dark Theme has a slightly higher average CTR (0.2645) compared to the Light Theme (0.2471).\r\n",
    "2. **Conversion Rate**: The Light Theme leads with a marginally higher average Conversion Rate (0.2555) compared to the Dark Theme (0.2513).\n",
    "\n",
    "3. **Bounce Rate**: The Bounce Rate is slightly higher for the Dark Theme (0.5121) than for the Light Theme (0.4990).\n",
    "\n",
    "4. **Scroll Depth**: Users on the Light Theme scroll slightly further on average (50.74%) compared to those on the Dark Theme (49.93%).\n",
    "\n",
    "5. **Age**: The average age of users is similar across themes, with the Light Theme at approximately 41.73 years and the Dark Theme at 41.33 years.\n",
    "\n",
    "6. **Session Duration**: The average session duration is slightly longer for users on the Light Theme (930.83 seconds) than for those on the Dark Theme                          (919.48 seconds).\n",
    "nds)."
   ]
  },
  {
   "cell_type": "markdown",
   "id": "3f4cf065-6601-49bf-b9e0-c89cc2d1688c",
   "metadata": {},
   "source": [
    "From these insights, it appears that the Light Theme slightly outperforms the Dark Theme in terms of Conversion Rate, Bounce Rate, Scroll Depth, and Session Duration, while the Dark Theme leads in Click Through Rate. However, the differences are relatively minor across all metrics."
   ]
  },
  {
   "cell_type": "markdown",
   "id": "17f4a542-a27c-4273-bf81-4e50ddc51491",
   "metadata": {},
   "source": [
    "## Getting Started with Hypothesis Testing\r\n",
    "We’ll use a significance level (alpha) of 0.05 for our hypothesis testing. It means we’ll consider a result statistically significant if the p-value from our test is less than 0.05.\r\n",
    "\r\n",
    "Let’s start with hypothesis testing based on the Conversion Rate between the Light Theme and Dark Theme. Our hypotheses are as follo\n",
    "\n",
    "1. **Null Hypothesis (H0​)**: There is no difference in Conversion Rates between the Light Theme and Dark Theme.\n",
    "2. **Alternative Hypothesis (Ha​)**: There is a difference in Conversion Rates between the Light Theme and Dark Theme.ws:"
   ]
  },
  {
   "cell_type": "markdown",
   "id": "754e708d-c4d0-4173-8d3d-b651b6c4b607",
   "metadata": {},
   "source": [
    "We’ll use a two-sample t-test to compare the means of the two independent samples. Let’s proceed with the test:"
   ]
  },
  {
   "cell_type": "code",
   "execution_count": 7,
   "id": "e6ce8e1f-4e6d-4b92-b427-e2b4d56fbd06",
   "metadata": {},
   "outputs": [
    {
     "data": {
      "text/plain": [
       "(0.4748494462782632, 0.6349982678451778)"
      ]
     },
     "execution_count": 7,
     "metadata": {},
     "output_type": "execute_result"
    }
   ],
   "source": [
    "# extracting conversion rates for both themes\n",
    "conversion_rates_light = df[df['Theme'] == 'Light Theme']['Conversion Rate']\n",
    "conversion_rates_dark = df[df['Theme'] == 'Dark Theme']['Conversion Rate']\n",
    "\n",
    "# performing a two-sample t-test\n",
    "t_stat, p_value = ttest_ind(conversion_rates_light, conversion_rates_dark, equal_var=False)\n",
    "\n",
    "t_stat, p_value"
   ]
  },
  {
   "cell_type": "markdown",
   "id": "76e18ad9-f03d-4abe-b094-68ac9203f2a7",
   "metadata": {},
   "source": [
    "The result of the two-sample t-test gives a p-value of approximately 0.635. Since this p-value is much greater than our significance level of 0.05, we do not have enough evidence to reject the null hypothesis. Therefore, we conclude that there is no statistically significant difference in Conversion Rates between the Light Theme and Dark Theme based on the data provided.\n",
    "\n",
    "Now, let’s conduct hypothesis testing based on the Click Through Rate (CTR) to see if there’s a statistically significant difference between the Light Theme and Dark Theme regarding how often users click through. Our hypotheses remain structured similarly:\n",
    "\n",
    "1. **Null Hypothesis (H0​**: There is no difference in Click Through Rates between the Light Theme and Dark Theme.\n",
    "2. **Alternative Hypothesis (Ha​)**: There is a difference in Click Rates between the Light Theme and Dark Theme."
   ]
  },
  {
   "cell_type": "markdown",
   "id": "88db9a78-e4b9-4e56-acb3-7dec4ab5003e",
   "metadata": {},
   "source": [
    "We’ll perform a two-sample t-test on the CTR for both themes. Let’s proceed with the calculation:"
   ]
  },
  {
   "cell_type": "code",
   "execution_count": 8,
   "id": "2055df4d-6882-4561-b300-ba19d3ccfe80",
   "metadata": {},
   "outputs": [
    {
     "data": {
      "text/plain": [
       "(-1.9781708664172253, 0.04818435371010704)"
      ]
     },
     "execution_count": 8,
     "metadata": {},
     "output_type": "execute_result"
    }
   ],
   "source": [
    "# extracting click through rates for both themes\n",
    "ctr_light = df[df['Theme'] == 'Light Theme']['Click Through Rate']\n",
    "ctr_dark = df[df['Theme'] == 'Dark Theme']['Click Through Rate']\n",
    "\n",
    "# performing a two-sample t-test\n",
    "t_stat_ctr, p_value_ctr = ttest_ind(ctr_light, ctr_dark, equal_var=False)\n",
    "\n",
    "t_stat_ctr, p_value_ctr"
   ]
  },
  {
   "cell_type": "markdown",
   "id": "124f5e3c-f704-43da-8d96-552393f20e80",
   "metadata": {},
   "source": [
    "The two-sample t-test for the Click Through Rate (CTR) between the Light Theme and Dark Theme yields a p-value of approximately 0.048. This p-value is slightly below our significance level of 0.05, indicating that there is a statistically significant difference in Click Through Rates between the Light Theme and Dark Theme, with the Dark Theme likely having a higher CTR given the direction of the test statistic."
   ]
  },
  {
   "cell_type": "markdown",
   "id": "3ae9c409-6c38-4f40-85d4-7b94b0303e28",
   "metadata": {},
   "source": [
    "Now, let’s perform Hypothesis Testing based on two other metrics: bounce rate and scroll depth, which are important metrics for analyzing the performance of a theme or a design on a website. I’ll first perform these statistical tests and then create a table to show the report of all the tests we have done:"
   ]
  },
  {
   "cell_type": "code",
   "execution_count": 9,
   "id": "8d01fbb1-f493-4b2d-b475-5d020b350447",
   "metadata": {},
   "outputs": [
    {
     "data": {
      "text/html": [
       "<div>\n",
       "<style scoped>\n",
       "    .dataframe tbody tr th:only-of-type {\n",
       "        vertical-align: middle;\n",
       "    }\n",
       "\n",
       "    .dataframe tbody tr th {\n",
       "        vertical-align: top;\n",
       "    }\n",
       "\n",
       "    .dataframe thead th {\n",
       "        text-align: right;\n",
       "    }\n",
       "</style>\n",
       "<table border=\"1\" class=\"dataframe\">\n",
       "  <thead>\n",
       "    <tr style=\"text-align: right;\">\n",
       "      <th></th>\n",
       "      <th>Metric</th>\n",
       "      <th>T-Statistic</th>\n",
       "      <th>P-Value</th>\n",
       "    </tr>\n",
       "  </thead>\n",
       "  <tbody>\n",
       "    <tr>\n",
       "      <th>0</th>\n",
       "      <td>Click Through Rate</td>\n",
       "      <td>-1.978171</td>\n",
       "      <td>0.048184</td>\n",
       "    </tr>\n",
       "    <tr>\n",
       "      <th>1</th>\n",
       "      <td>Conversion Rate</td>\n",
       "      <td>0.474849</td>\n",
       "      <td>0.634998</td>\n",
       "    </tr>\n",
       "    <tr>\n",
       "      <th>2</th>\n",
       "      <td>Bounce Rate</td>\n",
       "      <td>-1.201888</td>\n",
       "      <td>0.229692</td>\n",
       "    </tr>\n",
       "    <tr>\n",
       "      <th>3</th>\n",
       "      <td>Scroll Depth</td>\n",
       "      <td>0.756228</td>\n",
       "      <td>0.449692</td>\n",
       "    </tr>\n",
       "  </tbody>\n",
       "</table>\n",
       "</div>"
      ],
      "text/plain": [
       "               Metric  T-Statistic   P-Value\n",
       "0  Click Through Rate    -1.978171  0.048184\n",
       "1     Conversion Rate     0.474849  0.634998\n",
       "2         Bounce Rate    -1.201888  0.229692\n",
       "3        Scroll Depth     0.756228  0.449692"
      ]
     },
     "execution_count": 9,
     "metadata": {},
     "output_type": "execute_result"
    }
   ],
   "source": [
    "# extracting bounce rates for both themes\n",
    "bounce_rates_light = df[df['Theme'] == 'Light Theme']['Bounce Rate']\n",
    "bounce_rates_dark = df[df['Theme'] == 'Dark Theme']['Bounce Rate']\n",
    "\n",
    "# performing a two-sample t-test for bounce rate\n",
    "t_stat_bounce, p_value_bounce = ttest_ind(bounce_rates_light, bounce_rates_dark, equal_var=False)\n",
    "\n",
    "# extracting scroll depths for both themes\n",
    "scroll_depth_light = df[df['Theme'] == 'Light Theme']['Scroll_Depth']\n",
    "scroll_depth_dark = df[df['Theme'] == 'Dark Theme']['Scroll_Depth']\n",
    "\n",
    "# performing a two-sample t-test for scroll depth\n",
    "t_stat_scroll, p_value_scroll = ttest_ind(scroll_depth_light, scroll_depth_dark, equal_var=False)\n",
    "\n",
    "# creating a table for comparison\n",
    "comparison_table = pd.DataFrame({\n",
    "    'Metric': ['Click Through Rate', 'Conversion Rate', 'Bounce Rate', 'Scroll Depth'],\n",
    "    'T-Statistic': [t_stat_ctr, t_stat, t_stat_bounce, t_stat_scroll],\n",
    "    'P-Value': [p_value_ctr, p_value, p_value_bounce, p_value_scroll]\n",
    "})\n",
    "\n",
    "comparison_table"
   ]
  },
  {
   "cell_type": "markdown",
   "id": "b30fc60a-6881-47d8-a89f-9742c7424117",
   "metadata": {},
   "source": [
    "So, above is the table comparing the performance of the Light Theme and Dark Theme across various metrics based on hypothesis testing:"
   ]
  },
  {
   "cell_type": "markdown",
   "id": "f037704d-b0e4-45f1-9cdd-e4e6105f7b0e",
   "metadata": {},
   "source": [
    "1. **Click Through Rate**: The test reveals a statistically significant difference, with the Dark Theme likely performing better (P-Value = 0.048).\n",
    "2. **Conversion Rate**: No statistically significant difference was found (P-Value = 0.635).\n",
    "3. **Bounce Rate**: There’s no statistically significant difference in Bounce Rates between the themes (P-Value = 0.230).\n",
    "4. **Scroll Depth**: Similarly, no statistically significant difference is observed in Scroll Depths (P-Value = 0.450).\n"
   ]
  },
  {
   "cell_type": "markdown",
   "id": "33cda68d-e3ae-49b7-afe8-0dea751b6fa2",
   "metadata": {},
   "source": [
    "In summary, while the two themes perform similarly across most metrics, the Dark Theme has a slight edge in terms of engaging users to click through. For other key performance indicators like Conversion Rate, Bounce Rate, and Scroll Depth, the choice between a Light Theme and a Dark Theme does not significantly affect user behaviour according to the data provided."
   ]
  },
  {
   "cell_type": "markdown",
   "id": "db5483cf-5bcd-4b87-905d-608a4b5645f1",
   "metadata": {},
   "source": [
    "## Summary\r\n",
    "So, Hypothesis Testing is a statistical method used to make inferences or decisions about a population based on sample data. It starts with a null hypothesis (H0), which represents a default stance or no effect, and an alternative hypothesis (H1 or Ha), which represents what we aim to prove or expect to find. The process involves using sample data to determine whether to reject the null hypothesis in favor of the alternative hypothesis, based on the likelihood of observing the sample data under the null hypothesis."
   ]
  }
 ],
 "metadata": {
  "kernelspec": {
   "display_name": "Python 3 (ipykernel)",
   "language": "python",
   "name": "python3"
  },
  "language_info": {
   "codemirror_mode": {
    "name": "ipython",
    "version": 3
   },
   "file_extension": ".py",
   "mimetype": "text/x-python",
   "name": "python",
   "nbconvert_exporter": "python",
   "pygments_lexer": "ipython3",
   "version": "3.12.1"
  }
 },
 "nbformat": 4,
 "nbformat_minor": 5
}
